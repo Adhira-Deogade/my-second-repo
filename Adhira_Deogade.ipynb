{
  "nbformat": 4,
  "nbformat_minor": 0,
  "metadata": {
    "colab": {
      "name": "Adhira-Deogade.ipynb",
      "version": "0.3.2",
      "provenance": [],
      "collapsed_sections": [],
      "include_colab_link": true
    },
    "kernelspec": {
      "name": "python3",
      "display_name": "Python 3"
    }
  },
  "cells": [
    {
      "cell_type": "markdown",
      "metadata": {
        "id": "view-in-github",
        "colab_type": "text"
      },
      "source": [
        "<a href=\"https://colab.research.google.com/github/Adhira-Deogade/my-second-repo/blob/master/Adhira_Deogade.ipynb\" target=\"_parent\"><img src=\"https://colab.research.google.com/assets/colab-badge.svg\" alt=\"Open In Colab\"/></a>"
      ]
    },
    {
      "cell_type": "markdown",
      "metadata": {
        "id": "3d5Yn8IUHbl5",
        "colab_type": "text"
      },
      "source": [
        "# **Name: Adhira Deogade**\n",
        "# **Email: deogade.a@husky.neu.edu**"
      ]
    },
    {
      "cell_type": "markdown",
      "metadata": {
        "id": "6rrLNMxqHxkB",
        "colab_type": "text"
      },
      "source": [
        "**Import libraries**"
      ]
    },
    {
      "cell_type": "code",
      "metadata": {
        "id": "nL9nfxSR6EX-",
        "colab_type": "code",
        "colab": {}
      },
      "source": [
        "from google.colab import files\n",
        "import pandas as pd\n",
        "import numpy as np\n",
        "import matplotlib.pyplot as plt\n",
        "import seaborn as sns\n",
        "from sklearn.metrics import matthews_corrcoef\n"
      ],
      "execution_count": 0,
      "outputs": []
    },
    {
      "cell_type": "markdown",
      "metadata": {
        "id": "QFY676EgID_X",
        "colab_type": "text"
      },
      "source": [
        "**Upload CSV file**"
      ]
    },
    {
      "cell_type": "code",
      "metadata": {
        "id": "9dNP6EXJ6MDj",
        "colab_type": "code",
        "colab": {}
      },
      "source": [
        "up = files.upload()"
      ],
      "execution_count": 0,
      "outputs": []
    },
    {
      "cell_type": "code",
      "metadata": {
        "id": "AbZIYMCD6NDK",
        "colab_type": "code",
        "colab": {}
      },
      "source": [
        "pwd"
      ],
      "execution_count": 0,
      "outputs": []
    },
    {
      "cell_type": "code",
      "metadata": {
        "id": "_ayHd15W6YmB",
        "colab_type": "code",
        "colab": {}
      },
      "source": [
        "ls"
      ],
      "execution_count": 0,
      "outputs": []
    },
    {
      "cell_type": "markdown",
      "metadata": {
        "id": "OkJgtaBcIKJb",
        "colab_type": "text"
      },
      "source": [
        "**Rename file using shell script**"
      ]
    },
    {
      "cell_type": "code",
      "metadata": {
        "id": "ahdcoQ3l6Y-p",
        "colab_type": "code",
        "colab": {}
      },
      "source": [
        "mv screening_exercise_orders_v201810.csv assn.csv"
      ],
      "execution_count": 0,
      "outputs": []
    },
    {
      "cell_type": "code",
      "metadata": {
        "id": "rHWcdmtU6ecg",
        "colab_type": "code",
        "colab": {}
      },
      "source": [
        "ls"
      ],
      "execution_count": 0,
      "outputs": []
    },
    {
      "cell_type": "markdown",
      "metadata": {
        "id": "s2racm3CIQRV",
        "colab_type": "text"
      },
      "source": [
        "**Import dataset into pandas dataframe object**"
      ]
    },
    {
      "cell_type": "code",
      "metadata": {
        "id": "Wtd09M9O6luh",
        "colab_type": "code",
        "colab": {}
      },
      "source": [
        "df = pd.read_csv(\"assn.csv\")"
      ],
      "execution_count": 0,
      "outputs": []
    },
    {
      "cell_type": "markdown",
      "metadata": {
        "id": "dpj67-6cIWmH",
        "colab_type": "text"
      },
      "source": [
        "**Look into the dataset**"
      ]
    },
    {
      "cell_type": "code",
      "metadata": {
        "id": "4T-8SSrq6ozp",
        "colab_type": "code",
        "colab": {
          "base_uri": "https://localhost:8080/",
          "height": 248
        },
        "outputId": "63f3769d-7e0b-4a06-ded5-f236fb4db6bb"
      },
      "source": [
        "df.head()"
      ],
      "execution_count": 3,
      "outputs": [
        {
          "output_type": "execute_result",
          "data": {
            "text/html": [
              "<div>\n",
              "<style scoped>\n",
              "    .dataframe tbody tr th:only-of-type {\n",
              "        vertical-align: middle;\n",
              "    }\n",
              "\n",
              "    .dataframe tbody tr th {\n",
              "        vertical-align: top;\n",
              "    }\n",
              "\n",
              "    .dataframe thead th {\n",
              "        text-align: right;\n",
              "    }\n",
              "</style>\n",
              "<table border=\"1\" class=\"dataframe\">\n",
              "  <thead>\n",
              "    <tr style=\"text-align: right;\">\n",
              "      <th></th>\n",
              "      <th>customer_id</th>\n",
              "      <th>gender</th>\n",
              "      <th>date</th>\n",
              "      <th>value</th>\n",
              "      <th>predicted_gender</th>\n",
              "    </tr>\n",
              "  </thead>\n",
              "  <tbody>\n",
              "    <tr>\n",
              "      <th>0</th>\n",
              "      <td>1000</td>\n",
              "      <td>0</td>\n",
              "      <td>2017-01-01 00:11:31</td>\n",
              "      <td>198.5</td>\n",
              "      <td>1</td>\n",
              "    </tr>\n",
              "    <tr>\n",
              "      <th>1</th>\n",
              "      <td>1001</td>\n",
              "      <td>0</td>\n",
              "      <td>2017-01-01 00:29:56</td>\n",
              "      <td>338.0</td>\n",
              "      <td>1</td>\n",
              "    </tr>\n",
              "    <tr>\n",
              "      <th>2</th>\n",
              "      <td>1002</td>\n",
              "      <td>1</td>\n",
              "      <td>2017-01-01 01:30:31</td>\n",
              "      <td>733.0</td>\n",
              "      <td>1</td>\n",
              "    </tr>\n",
              "    <tr>\n",
              "      <th>3</th>\n",
              "      <td>1003</td>\n",
              "      <td>1</td>\n",
              "      <td>2017-01-01 01:34:22</td>\n",
              "      <td>772.0</td>\n",
              "      <td>1</td>\n",
              "    </tr>\n",
              "    <tr>\n",
              "      <th>4</th>\n",
              "      <td>1004</td>\n",
              "      <td>0</td>\n",
              "      <td>2017-01-01 03:11:54</td>\n",
              "      <td>508.0</td>\n",
              "      <td>1</td>\n",
              "    </tr>\n",
              "  </tbody>\n",
              "</table>\n",
              "</div>"
            ],
            "text/plain": [
              "   customer_id  gender                 date  value  predicted_gender\n",
              "0         1000       0  2017-01-01 00:11:31  198.5                 1\n",
              "1         1001       0  2017-01-01 00:29:56  338.0                 1\n",
              "2         1002       1  2017-01-01 01:30:31  733.0                 1\n",
              "3         1003       1  2017-01-01 01:34:22  772.0                 1\n",
              "4         1004       0  2017-01-01 03:11:54  508.0                 1"
            ]
          },
          "metadata": {
            "tags": []
          },
          "execution_count": 3
        }
      ]
    },
    {
      "cell_type": "code",
      "metadata": {
        "id": "J4Q0attkIj-j",
        "colab_type": "code",
        "colab": {
          "base_uri": "https://localhost:8080/",
          "height": 150
        },
        "outputId": "2eec7107-0b2a-48dc-e3af-6ed29ce380ce"
      },
      "source": [
        "df.dtypes"
      ],
      "execution_count": 8,
      "outputs": [
        {
          "output_type": "execute_result",
          "data": {
            "text/plain": [
              "customer_id           int64\n",
              "gender                int64\n",
              "date                 object\n",
              "value               float64\n",
              "predicted_gender      int64\n",
              "dtype: object"
            ]
          },
          "metadata": {
            "tags": []
          },
          "execution_count": 8
        }
      ]
    },
    {
      "cell_type": "markdown",
      "metadata": {
        "id": "fYttvz4FIe5a",
        "colab_type": "text"
      },
      "source": [
        "**Change date column to date time**"
      ]
    },
    {
      "cell_type": "code",
      "metadata": {
        "id": "nh5inPpu6pfR",
        "colab_type": "code",
        "colab": {}
      },
      "source": [
        "df['date'] = pd.to_datetime(df['date'])"
      ],
      "execution_count": 0,
      "outputs": []
    },
    {
      "cell_type": "code",
      "metadata": {
        "id": "AYZ3uwritBmG",
        "colab_type": "code",
        "colab": {
          "base_uri": "https://localhost:8080/",
          "height": 40
        },
        "outputId": "19b36a7b-c339-4925-acf6-cea9c2ffda33"
      },
      "source": [
        "df['date'].dtype"
      ],
      "execution_count": 10,
      "outputs": [
        {
          "output_type": "execute_result",
          "data": {
            "text/plain": [
              "dtype('<M8[ns]')"
            ]
          },
          "metadata": {
            "tags": []
          },
          "execution_count": 10
        }
      ]
    },
    {
      "cell_type": "markdown",
      "metadata": {
        "id": "uqANNE2H7Nnn",
        "colab_type": "text"
      },
      "source": [
        "# **A) Sort the dataframe by customer_id ascending and display the first 10 rows**"
      ]
    },
    {
      "cell_type": "code",
      "metadata": {
        "id": "PBNh1BIb7Ikg",
        "colab_type": "code",
        "colab": {}
      },
      "source": [
        "sorted_df = df.sort_values(by='customer_id',ascending=True)"
      ],
      "execution_count": 0,
      "outputs": []
    },
    {
      "cell_type": "code",
      "metadata": {
        "id": "YjxxdhtY7yLu",
        "colab_type": "code",
        "colab": {
          "base_uri": "https://localhost:8080/",
          "height": 438
        },
        "outputId": "abe55cf9-aa53-41c5-9492-f5e09098df3a"
      },
      "source": [
        "sorted_df.head(10)"
      ],
      "execution_count": 12,
      "outputs": [
        {
          "output_type": "execute_result",
          "data": {
            "text/html": [
              "<div>\n",
              "<style scoped>\n",
              "    .dataframe tbody tr th:only-of-type {\n",
              "        vertical-align: middle;\n",
              "    }\n",
              "\n",
              "    .dataframe tbody tr th {\n",
              "        vertical-align: top;\n",
              "    }\n",
              "\n",
              "    .dataframe thead th {\n",
              "        text-align: right;\n",
              "    }\n",
              "</style>\n",
              "<table border=\"1\" class=\"dataframe\">\n",
              "  <thead>\n",
              "    <tr style=\"text-align: right;\">\n",
              "      <th></th>\n",
              "      <th>customer_id</th>\n",
              "      <th>gender</th>\n",
              "      <th>date</th>\n",
              "      <th>value</th>\n",
              "      <th>predicted_gender</th>\n",
              "    </tr>\n",
              "  </thead>\n",
              "  <tbody>\n",
              "    <tr>\n",
              "      <th>0</th>\n",
              "      <td>1000</td>\n",
              "      <td>0</td>\n",
              "      <td>2017-01-01 00:11:31</td>\n",
              "      <td>198.5</td>\n",
              "      <td>1</td>\n",
              "    </tr>\n",
              "    <tr>\n",
              "      <th>1</th>\n",
              "      <td>1001</td>\n",
              "      <td>0</td>\n",
              "      <td>2017-01-01 00:29:56</td>\n",
              "      <td>338.0</td>\n",
              "      <td>1</td>\n",
              "    </tr>\n",
              "    <tr>\n",
              "      <th>2</th>\n",
              "      <td>1002</td>\n",
              "      <td>1</td>\n",
              "      <td>2017-01-01 01:30:31</td>\n",
              "      <td>733.0</td>\n",
              "      <td>1</td>\n",
              "    </tr>\n",
              "    <tr>\n",
              "      <th>1742</th>\n",
              "      <td>1002</td>\n",
              "      <td>1</td>\n",
              "      <td>2017-02-19 21:35:31</td>\n",
              "      <td>176.0</td>\n",
              "      <td>1</td>\n",
              "    </tr>\n",
              "    <tr>\n",
              "      <th>928</th>\n",
              "      <td>1002</td>\n",
              "      <td>1</td>\n",
              "      <td>2017-01-23 04:33:38</td>\n",
              "      <td>148.6</td>\n",
              "      <td>1</td>\n",
              "    </tr>\n",
              "    <tr>\n",
              "      <th>3</th>\n",
              "      <td>1003</td>\n",
              "      <td>1</td>\n",
              "      <td>2017-01-01 01:34:22</td>\n",
              "      <td>772.0</td>\n",
              "      <td>1</td>\n",
              "    </tr>\n",
              "    <tr>\n",
              "      <th>676</th>\n",
              "      <td>1003</td>\n",
              "      <td>1</td>\n",
              "      <td>2017-01-20 05:56:10</td>\n",
              "      <td>425.5</td>\n",
              "      <td>1</td>\n",
              "    </tr>\n",
              "    <tr>\n",
              "      <th>4292</th>\n",
              "      <td>1003</td>\n",
              "      <td>1</td>\n",
              "      <td>2017-04-25 09:54:54</td>\n",
              "      <td>0.0</td>\n",
              "      <td>1</td>\n",
              "    </tr>\n",
              "    <tr>\n",
              "      <th>4323</th>\n",
              "      <td>1003</td>\n",
              "      <td>1</td>\n",
              "      <td>2017-04-26 02:37:20</td>\n",
              "      <td>704.0</td>\n",
              "      <td>1</td>\n",
              "    </tr>\n",
              "    <tr>\n",
              "      <th>4</th>\n",
              "      <td>1004</td>\n",
              "      <td>0</td>\n",
              "      <td>2017-01-01 03:11:54</td>\n",
              "      <td>508.0</td>\n",
              "      <td>1</td>\n",
              "    </tr>\n",
              "  </tbody>\n",
              "</table>\n",
              "</div>"
            ],
            "text/plain": [
              "      customer_id  gender                date  value  predicted_gender\n",
              "0            1000       0 2017-01-01 00:11:31  198.5                 1\n",
              "1            1001       0 2017-01-01 00:29:56  338.0                 1\n",
              "2            1002       1 2017-01-01 01:30:31  733.0                 1\n",
              "1742         1002       1 2017-02-19 21:35:31  176.0                 1\n",
              "928          1002       1 2017-01-23 04:33:38  148.6                 1\n",
              "3            1003       1 2017-01-01 01:34:22  772.0                 1\n",
              "676          1003       1 2017-01-20 05:56:10  425.5                 1\n",
              "4292         1003       1 2017-04-25 09:54:54    0.0                 1\n",
              "4323         1003       1 2017-04-26 02:37:20  704.0                 1\n",
              "4            1004       0 2017-01-01 03:11:54  508.0                 1"
            ]
          },
          "metadata": {
            "tags": []
          },
          "execution_count": 12
        }
      ]
    },
    {
      "cell_type": "markdown",
      "metadata": {
        "id": "PpStqLa078jm",
        "colab_type": "text"
      },
      "source": [
        "# **B) Plot the count of orders per week for the store**"
      ]
    },
    {
      "cell_type": "code",
      "metadata": {
        "id": "UAIBSLba79NF",
        "colab_type": "code",
        "colab": {}
      },
      "source": [
        "## Obtain week number\n",
        "df['Week_Number'] = df['date'].dt.week"
      ],
      "execution_count": 0,
      "outputs": []
    },
    {
      "cell_type": "code",
      "metadata": {
        "id": "pDUszaAR9Yj6",
        "colab_type": "code",
        "colab": {
          "base_uri": "https://localhost:8080/",
          "height": 248
        },
        "outputId": "68280c41-c8b2-41ca-ede9-4feb86585d44"
      },
      "source": [
        "df.head()"
      ],
      "execution_count": 14,
      "outputs": [
        {
          "output_type": "execute_result",
          "data": {
            "text/html": [
              "<div>\n",
              "<style scoped>\n",
              "    .dataframe tbody tr th:only-of-type {\n",
              "        vertical-align: middle;\n",
              "    }\n",
              "\n",
              "    .dataframe tbody tr th {\n",
              "        vertical-align: top;\n",
              "    }\n",
              "\n",
              "    .dataframe thead th {\n",
              "        text-align: right;\n",
              "    }\n",
              "</style>\n",
              "<table border=\"1\" class=\"dataframe\">\n",
              "  <thead>\n",
              "    <tr style=\"text-align: right;\">\n",
              "      <th></th>\n",
              "      <th>customer_id</th>\n",
              "      <th>gender</th>\n",
              "      <th>date</th>\n",
              "      <th>value</th>\n",
              "      <th>predicted_gender</th>\n",
              "      <th>Week_Number</th>\n",
              "    </tr>\n",
              "  </thead>\n",
              "  <tbody>\n",
              "    <tr>\n",
              "      <th>0</th>\n",
              "      <td>1000</td>\n",
              "      <td>0</td>\n",
              "      <td>2017-01-01 00:11:31</td>\n",
              "      <td>198.5</td>\n",
              "      <td>1</td>\n",
              "      <td>52</td>\n",
              "    </tr>\n",
              "    <tr>\n",
              "      <th>1</th>\n",
              "      <td>1001</td>\n",
              "      <td>0</td>\n",
              "      <td>2017-01-01 00:29:56</td>\n",
              "      <td>338.0</td>\n",
              "      <td>1</td>\n",
              "      <td>52</td>\n",
              "    </tr>\n",
              "    <tr>\n",
              "      <th>2</th>\n",
              "      <td>1002</td>\n",
              "      <td>1</td>\n",
              "      <td>2017-01-01 01:30:31</td>\n",
              "      <td>733.0</td>\n",
              "      <td>1</td>\n",
              "      <td>52</td>\n",
              "    </tr>\n",
              "    <tr>\n",
              "      <th>3</th>\n",
              "      <td>1003</td>\n",
              "      <td>1</td>\n",
              "      <td>2017-01-01 01:34:22</td>\n",
              "      <td>772.0</td>\n",
              "      <td>1</td>\n",
              "      <td>52</td>\n",
              "    </tr>\n",
              "    <tr>\n",
              "      <th>4</th>\n",
              "      <td>1004</td>\n",
              "      <td>0</td>\n",
              "      <td>2017-01-01 03:11:54</td>\n",
              "      <td>508.0</td>\n",
              "      <td>1</td>\n",
              "      <td>52</td>\n",
              "    </tr>\n",
              "  </tbody>\n",
              "</table>\n",
              "</div>"
            ],
            "text/plain": [
              "   customer_id  gender  ... predicted_gender  Week_Number\n",
              "0         1000       0  ...                1           52\n",
              "1         1001       0  ...                1           52\n",
              "2         1002       1  ...                1           52\n",
              "3         1003       1  ...                1           52\n",
              "4         1004       0  ...                1           52\n",
              "\n",
              "[5 rows x 6 columns]"
            ]
          },
          "metadata": {
            "tags": []
          },
          "execution_count": 14
        }
      ]
    },
    {
      "cell_type": "code",
      "metadata": {
        "id": "coiDYaoZ9mhR",
        "colab_type": "code",
        "colab": {}
      },
      "source": [
        "## Alternate method to create a pivot table with pandas\n",
        "# table = pd.pivot_table(df, values='value',aggfunc='count',index='Week_Number')"
      ],
      "execution_count": 0,
      "outputs": []
    },
    {
      "cell_type": "code",
      "metadata": {
        "id": "s6YlaTXUtSbt",
        "colab_type": "code",
        "colab": {}
      },
      "source": [
        "resample_df = df.copy(deep=True)"
      ],
      "execution_count": 0,
      "outputs": []
    },
    {
      "cell_type": "code",
      "metadata": {
        "id": "UDcfl_wO32Z-",
        "colab_type": "code",
        "colab": {}
      },
      "source": [
        "resample_df['date'] = resample_df.date.dt.date"
      ],
      "execution_count": 0,
      "outputs": []
    },
    {
      "cell_type": "code",
      "metadata": {
        "id": "h1dvIP-M5JIh",
        "colab_type": "code",
        "colab": {
          "base_uri": "https://localhost:8080/",
          "height": 248
        },
        "outputId": "4fb966ad-a62d-437a-d512-7330f08cf92f"
      },
      "source": [
        "resample_df.head()"
      ],
      "execution_count": 18,
      "outputs": [
        {
          "output_type": "execute_result",
          "data": {
            "text/html": [
              "<div>\n",
              "<style scoped>\n",
              "    .dataframe tbody tr th:only-of-type {\n",
              "        vertical-align: middle;\n",
              "    }\n",
              "\n",
              "    .dataframe tbody tr th {\n",
              "        vertical-align: top;\n",
              "    }\n",
              "\n",
              "    .dataframe thead th {\n",
              "        text-align: right;\n",
              "    }\n",
              "</style>\n",
              "<table border=\"1\" class=\"dataframe\">\n",
              "  <thead>\n",
              "    <tr style=\"text-align: right;\">\n",
              "      <th></th>\n",
              "      <th>customer_id</th>\n",
              "      <th>gender</th>\n",
              "      <th>date</th>\n",
              "      <th>value</th>\n",
              "      <th>predicted_gender</th>\n",
              "      <th>Week_Number</th>\n",
              "    </tr>\n",
              "  </thead>\n",
              "  <tbody>\n",
              "    <tr>\n",
              "      <th>0</th>\n",
              "      <td>1000</td>\n",
              "      <td>0</td>\n",
              "      <td>2017-01-01</td>\n",
              "      <td>198.5</td>\n",
              "      <td>1</td>\n",
              "      <td>52</td>\n",
              "    </tr>\n",
              "    <tr>\n",
              "      <th>1</th>\n",
              "      <td>1001</td>\n",
              "      <td>0</td>\n",
              "      <td>2017-01-01</td>\n",
              "      <td>338.0</td>\n",
              "      <td>1</td>\n",
              "      <td>52</td>\n",
              "    </tr>\n",
              "    <tr>\n",
              "      <th>2</th>\n",
              "      <td>1002</td>\n",
              "      <td>1</td>\n",
              "      <td>2017-01-01</td>\n",
              "      <td>733.0</td>\n",
              "      <td>1</td>\n",
              "      <td>52</td>\n",
              "    </tr>\n",
              "    <tr>\n",
              "      <th>3</th>\n",
              "      <td>1003</td>\n",
              "      <td>1</td>\n",
              "      <td>2017-01-01</td>\n",
              "      <td>772.0</td>\n",
              "      <td>1</td>\n",
              "      <td>52</td>\n",
              "    </tr>\n",
              "    <tr>\n",
              "      <th>4</th>\n",
              "      <td>1004</td>\n",
              "      <td>0</td>\n",
              "      <td>2017-01-01</td>\n",
              "      <td>508.0</td>\n",
              "      <td>1</td>\n",
              "      <td>52</td>\n",
              "    </tr>\n",
              "  </tbody>\n",
              "</table>\n",
              "</div>"
            ],
            "text/plain": [
              "   customer_id  gender        date  value  predicted_gender  Week_Number\n",
              "0         1000       0  2017-01-01  198.5                 1           52\n",
              "1         1001       0  2017-01-01  338.0                 1           52\n",
              "2         1002       1  2017-01-01  733.0                 1           52\n",
              "3         1003       1  2017-01-01  772.0                 1           52\n",
              "4         1004       0  2017-01-01  508.0                 1           52"
            ]
          },
          "metadata": {
            "tags": []
          },
          "execution_count": 18
        }
      ]
    },
    {
      "cell_type": "code",
      "metadata": {
        "id": "r1KaHtDM-xi3",
        "colab_type": "code",
        "colab": {}
      },
      "source": [
        "resample_df = df.resample('W', on='date').count()"
      ],
      "execution_count": 0,
      "outputs": []
    },
    {
      "cell_type": "code",
      "metadata": {
        "id": "X1_xS8azwynL",
        "colab_type": "code",
        "colab": {
          "base_uri": "https://localhost:8080/",
          "height": 286
        },
        "outputId": "50268fae-bc4f-499c-f99f-5ca3fd258711"
      },
      "source": [
        "resample_df.head()"
      ],
      "execution_count": 20,
      "outputs": [
        {
          "output_type": "execute_result",
          "data": {
            "text/html": [
              "<div>\n",
              "<style scoped>\n",
              "    .dataframe tbody tr th:only-of-type {\n",
              "        vertical-align: middle;\n",
              "    }\n",
              "\n",
              "    .dataframe tbody tr th {\n",
              "        vertical-align: top;\n",
              "    }\n",
              "\n",
              "    .dataframe thead th {\n",
              "        text-align: right;\n",
              "    }\n",
              "</style>\n",
              "<table border=\"1\" class=\"dataframe\">\n",
              "  <thead>\n",
              "    <tr style=\"text-align: right;\">\n",
              "      <th></th>\n",
              "      <th>customer_id</th>\n",
              "      <th>gender</th>\n",
              "      <th>date</th>\n",
              "      <th>value</th>\n",
              "      <th>predicted_gender</th>\n",
              "      <th>Week_Number</th>\n",
              "    </tr>\n",
              "    <tr>\n",
              "      <th>date</th>\n",
              "      <th></th>\n",
              "      <th></th>\n",
              "      <th></th>\n",
              "      <th></th>\n",
              "      <th></th>\n",
              "      <th></th>\n",
              "    </tr>\n",
              "  </thead>\n",
              "  <tbody>\n",
              "    <tr>\n",
              "      <th>2017-01-01</th>\n",
              "      <td>14</td>\n",
              "      <td>14</td>\n",
              "      <td>14</td>\n",
              "      <td>14</td>\n",
              "      <td>14</td>\n",
              "      <td>14</td>\n",
              "    </tr>\n",
              "    <tr>\n",
              "      <th>2017-01-08</th>\n",
              "      <td>180</td>\n",
              "      <td>180</td>\n",
              "      <td>180</td>\n",
              "      <td>180</td>\n",
              "      <td>180</td>\n",
              "      <td>180</td>\n",
              "    </tr>\n",
              "    <tr>\n",
              "      <th>2017-01-15</th>\n",
              "      <td>264</td>\n",
              "      <td>264</td>\n",
              "      <td>264</td>\n",
              "      <td>264</td>\n",
              "      <td>264</td>\n",
              "      <td>264</td>\n",
              "    </tr>\n",
              "    <tr>\n",
              "      <th>2017-01-22</th>\n",
              "      <td>405</td>\n",
              "      <td>405</td>\n",
              "      <td>405</td>\n",
              "      <td>405</td>\n",
              "      <td>405</td>\n",
              "      <td>405</td>\n",
              "    </tr>\n",
              "    <tr>\n",
              "      <th>2017-01-29</th>\n",
              "      <td>233</td>\n",
              "      <td>233</td>\n",
              "      <td>233</td>\n",
              "      <td>233</td>\n",
              "      <td>233</td>\n",
              "      <td>233</td>\n",
              "    </tr>\n",
              "  </tbody>\n",
              "</table>\n",
              "</div>"
            ],
            "text/plain": [
              "            customer_id  gender  date  value  predicted_gender  Week_Number\n",
              "date                                                                       \n",
              "2017-01-01           14      14    14     14                14           14\n",
              "2017-01-08          180     180   180    180               180          180\n",
              "2017-01-15          264     264   264    264               264          264\n",
              "2017-01-22          405     405   405    405               405          405\n",
              "2017-01-29          233     233   233    233               233          233"
            ]
          },
          "metadata": {
            "tags": []
          },
          "execution_count": 20
        }
      ]
    },
    {
      "cell_type": "code",
      "metadata": {
        "id": "6pA1YO-m68uX",
        "colab_type": "code",
        "colab": {
          "base_uri": "https://localhost:8080/",
          "height": 40
        },
        "outputId": "68c4b733-2877-4181-af20-0a9efbcab562"
      },
      "source": [
        "resample_df.index.dtype"
      ],
      "execution_count": 21,
      "outputs": [
        {
          "output_type": "execute_result",
          "data": {
            "text/plain": [
              "dtype('<M8[ns]')"
            ]
          },
          "metadata": {
            "tags": []
          },
          "execution_count": 21
        }
      ]
    },
    {
      "cell_type": "markdown",
      "metadata": {
        "id": "Wys_ydZ6JSaO",
        "colab_type": "text"
      },
      "source": [
        "**Plot count of orders by week and save figure**"
      ]
    },
    {
      "cell_type": "code",
      "metadata": {
        "id": "TKF-mXYLwuHU",
        "colab_type": "code",
        "colab": {
          "base_uri": "https://localhost:8080/",
          "height": 618
        },
        "outputId": "25460ecf-4355-4ce5-cfb7-9f2e5eb6f7d2"
      },
      "source": [
        "plt.figure(figsize=(18,10))\n",
        "sns.set(font_scale=1)\n",
        "sns.set_style(\"whitegrid\")\n",
        "\n",
        "g=sns.barplot(y=resample_df.index.date, x=resample_df.value, orient='h', palette=\"GnBu_d\")\n",
        "for i, v in enumerate(resample_df.value):\n",
        "    g.text(v + 3, i + .25, str(v), color='green', fontweight='light')\n",
        "\n",
        "g.spines['right'].set_visible(False)\n",
        "g.spines['top'].set_visible(False)\n",
        "g.set(xlabel='Order count', ylabel='Week')\n",
        "plt.savefig(\"Order-Count.jpg\")"
      ],
      "execution_count": 22,
      "outputs": [
        {
          "output_type": "display_data",
          "data": {
            "image/png": "[encoded data removed]",
            "text/plain": [
              "<Figure size 1296x720 with 1 Axes>"
            ]
          },
          "metadata": {
            "tags": []
          }
        }
      ]
    },
    {
      "cell_type": "markdown",
      "metadata": {
        "id": "zaq9kD5OJaUx",
        "colab_type": "text"
      },
      "source": [
        "**Download image file**"
      ]
    },
    {
      "cell_type": "code",
      "metadata": {
        "id": "JujtrkCZ2ONP",
        "colab_type": "code",
        "colab": {}
      },
      "source": [
        "files.download(\"Order-Count.jpg\")"
      ],
      "execution_count": 0,
      "outputs": []
    },
    {
      "cell_type": "markdown",
      "metadata": {
        "id": "P_Z2FGezAmXz",
        "colab_type": "text"
      },
      "source": [
        "# **C) Compute the mean order value for gender 0 and for gender 1. Do you think the difference is significant?**"
      ]
    },
    {
      "cell_type": "code",
      "metadata": {
        "id": "NATFyVxTA1Qy",
        "colab_type": "code",
        "colab": {
          "base_uri": "https://localhost:8080/",
          "height": 40
        },
        "outputId": "13cbb561-9f5a-4c16-e999-974b2261ddf6"
      },
      "source": [
        "df.gender.dtype"
      ],
      "execution_count": 24,
      "outputs": [
        {
          "output_type": "execute_result",
          "data": {
            "text/plain": [
              "dtype('int64')"
            ]
          },
          "metadata": {
            "tags": []
          },
          "execution_count": 24
        }
      ]
    },
    {
      "cell_type": "code",
      "metadata": {
        "id": "NUbBRST4BCxq",
        "colab_type": "code",
        "colab": {}
      },
      "source": [
        "grouped = df.groupby(df[\"gender\"]).mean()"
      ],
      "execution_count": 0,
      "outputs": []
    },
    {
      "cell_type": "code",
      "metadata": {
        "id": "qxKUqDi2Fnu_",
        "colab_type": "code",
        "colab": {
          "base_uri": "https://localhost:8080/",
          "height": 106
        },
        "outputId": "5c3efe0b-6cf2-4488-cb04-22c852cadbee"
      },
      "source": [
        "grouped.value"
      ],
      "execution_count": 26,
      "outputs": [
        {
          "output_type": "execute_result",
          "data": {
            "text/plain": [
              "gender\n",
              "0    363.890006\n",
              "1    350.708361\n",
              "Name: value, dtype: float64"
            ]
          },
          "metadata": {
            "tags": []
          },
          "execution_count": 26
        }
      ]
    },
    {
      "cell_type": "code",
      "metadata": {
        "id": "U4ujrBV398Xe",
        "colab_type": "code",
        "colab": {
          "base_uri": "https://localhost:8080/",
          "height": 40
        },
        "outputId": "34c962d4-98cc-45ff-ba7c-0aee5092dae2"
      },
      "source": [
        "df.value.mean()"
      ],
      "execution_count": 27,
      "outputs": [
        {
          "output_type": "execute_result",
          "data": {
            "text/plain": [
              "357.3221787543603"
            ]
          },
          "metadata": {
            "tags": []
          },
          "execution_count": 27
        }
      ]
    },
    {
      "cell_type": "markdown",
      "metadata": {
        "id": "xRvL79ihJl0V",
        "colab_type": "text"
      },
      "source": [
        "\n",
        "The difference of mean when gender is \"0\" and \"1\" comparing with the mean of all genders, tells us that:\n",
        "1.   When gender is \"0\", average value is greater than average of total, and when gender is \"1\", average value is greater than average of total\n",
        "2.   This tells us that, difference helps us distinguish values between two genders. \n"
      ]
    },
    {
      "cell_type": "markdown",
      "metadata": {
        "id": "1ent1XeCeX_5",
        "colab_type": "text"
      },
      "source": [
        "# **D) Assuming a single gender prediction was made for each customer, generate a confusion matrix for predicted gender. What does the confusion matrix tell you about the quality of the predictions?**"
      ]
    },
    {
      "cell_type": "code",
      "metadata": {
        "id": "8oUZUz2eeyQq",
        "colab_type": "code",
        "colab": {
          "base_uri": "https://localhost:8080/",
          "height": 210
        },
        "outputId": "c54ec2a7-9f41-4959-abc9-3584f6243c4d"
      },
      "source": [
        "pd.crosstab(df['gender'], df['predicted_gender'], rownames=['True'], colnames=['Predicted'], margins=True)"
      ],
      "execution_count": 28,
      "outputs": [
        {
          "output_type": "execute_result",
          "data": {
            "text/html": [
              "<div>\n",
              "<style scoped>\n",
              "    .dataframe tbody tr th:only-of-type {\n",
              "        vertical-align: middle;\n",
              "    }\n",
              "\n",
              "    .dataframe tbody tr th {\n",
              "        vertical-align: top;\n",
              "    }\n",
              "\n",
              "    .dataframe thead th {\n",
              "        text-align: right;\n",
              "    }\n",
              "</style>\n",
              "<table border=\"1\" class=\"dataframe\">\n",
              "  <thead>\n",
              "    <tr style=\"text-align: right;\">\n",
              "      <th>Predicted</th>\n",
              "      <th>0</th>\n",
              "      <th>1</th>\n",
              "      <th>All</th>\n",
              "    </tr>\n",
              "    <tr>\n",
              "      <th>True</th>\n",
              "      <th></th>\n",
              "      <th></th>\n",
              "      <th></th>\n",
              "    </tr>\n",
              "  </thead>\n",
              "  <tbody>\n",
              "    <tr>\n",
              "      <th>0</th>\n",
              "      <td>3349</td>\n",
              "      <td>3410</td>\n",
              "      <td>6759</td>\n",
              "    </tr>\n",
              "    <tr>\n",
              "      <th>1</th>\n",
              "      <td>1463</td>\n",
              "      <td>5249</td>\n",
              "      <td>6712</td>\n",
              "    </tr>\n",
              "    <tr>\n",
              "      <th>All</th>\n",
              "      <td>4812</td>\n",
              "      <td>8659</td>\n",
              "      <td>13471</td>\n",
              "    </tr>\n",
              "  </tbody>\n",
              "</table>\n",
              "</div>"
            ],
            "text/plain": [
              "Predicted     0     1    All\n",
              "True                        \n",
              "0          3349  3410   6759\n",
              "1          1463  5249   6712\n",
              "All        4812  8659  13471"
            ]
          },
          "metadata": {
            "tags": []
          },
          "execution_count": 28
        }
      ]
    },
    {
      "cell_type": "code",
      "metadata": {
        "id": "7_rZdai_fKwl",
        "colab_type": "code",
        "colab": {
          "base_uri": "https://localhost:8080/",
          "height": 40
        },
        "outputId": "856ed530-bcf8-4221-91c8-d76436d820d6"
      },
      "source": [
        "## Sensitivity/ recall\n",
        "s = 3349/6759\n",
        "s*100"
      ],
      "execution_count": 30,
      "outputs": [
        {
          "output_type": "execute_result",
          "data": {
            "text/plain": [
              "49.5487498150614"
            ]
          },
          "metadata": {
            "tags": []
          },
          "execution_count": 30
        }
      ]
    },
    {
      "cell_type": "code",
      "metadata": {
        "id": "GjvWmcJyfTqo",
        "colab_type": "code",
        "colab": {
          "base_uri": "https://localhost:8080/",
          "height": 40
        },
        "outputId": "577836b0-f042-434d-c155-3ed7d56adc09"
      },
      "source": [
        "## Specificity\n",
        "sp = 5249/6712\n",
        "sp*100"
      ],
      "execution_count": 31,
      "outputs": [
        {
          "output_type": "execute_result",
          "data": {
            "text/plain": [
              "78.20321811680571"
            ]
          },
          "metadata": {
            "tags": []
          },
          "execution_count": 31
        }
      ]
    },
    {
      "cell_type": "code",
      "metadata": {
        "id": "J4EIfIra52DE",
        "colab_type": "code",
        "colab": {
          "base_uri": "https://localhost:8080/",
          "height": 40
        },
        "outputId": "88cf10e0-1578-443a-8c36-02d542f92273"
      },
      "source": [
        "## Precision\n",
        "pr = 3349/4812\n",
        "pr*100"
      ],
      "execution_count": 32,
      "outputs": [
        {
          "output_type": "execute_result",
          "data": {
            "text/plain": [
              "69.5968412302577"
            ]
          },
          "metadata": {
            "tags": []
          },
          "execution_count": 32
        }
      ]
    },
    {
      "cell_type": "code",
      "metadata": {
        "id": "d1XoUSM251_7",
        "colab_type": "code",
        "colab": {
          "base_uri": "https://localhost:8080/",
          "height": 40
        },
        "outputId": "ca1b9efe-419e-4d4d-b1c2-eb828fac5785"
      },
      "source": [
        "## f-1 score\n",
        "f1 = (2*pr*s)/(pr+s)\n",
        "f1"
      ],
      "execution_count": 33,
      "outputs": [
        {
          "output_type": "execute_result",
          "data": {
            "text/plain": [
              "0.578860945467116"
            ]
          },
          "metadata": {
            "tags": []
          },
          "execution_count": 33
        }
      ]
    },
    {
      "cell_type": "code",
      "metadata": {
        "id": "Wg-fwnze7PlR",
        "colab_type": "code",
        "colab": {
          "base_uri": "https://localhost:8080/",
          "height": 40
        },
        "outputId": "ad844509-ba57-47b5-e56a-86d7da9a6b4e"
      },
      "source": [
        "matthews_corrcoef(df.gender, df.predicted_gender) "
      ],
      "execution_count": 34,
      "outputs": [
        {
          "output_type": "execute_result",
          "data": {
            "text/plain": [
              "0.2895771589836361"
            ]
          },
          "metadata": {
            "tags": []
          },
          "execution_count": 34
        }
      ]
    },
    {
      "cell_type": "markdown",
      "metadata": {
        "id": "NSzsR3hbKUAm",
        "colab_type": "text"
      },
      "source": [
        "\n",
        "\n",
        "1.   Compare with -1 to +1, where +1 tells positive perfect classification\n",
        "2. MCC value is close to 0, this tells us that, the model is no good than a random classification\n",
        "\n",
        "\n"
      ]
    },
    {
      "cell_type": "markdown",
      "metadata": {
        "id": "YjQka0sbD03Q",
        "colab_type": "text"
      },
      "source": [
        "# **E) Describe one of your favorite tools or techniques and give a small example of how it's helped you solve a problem. Limit your answer to one paragraph.**"
      ]
    },
    {
      "cell_type": "markdown",
      "metadata": {
        "id": "JUV10rH-KfRJ",
        "colab_type": "text"
      },
      "source": [
        " My favourite tool for forecasiting/ predcition problem is Seasonal Auto-Regressive Integrated Moving Average (SARIMA) time series method.\n",
        "During my co-op I had to predict sales and acticipated customer support tickets for upcoming 6 months from their previous 4 years of data.\n",
        "The company made large sales during summer and fewer during November and December months. Therefore, I felt the need to include the seasonal component in my averaging time-series model.\n",
        "This helped me improve my predcitions and keep them under a confidence interval of +/- 8% which was otherwise 12% without seasonal component\n",
        "I found it intriguing to tune the window size for my model and this way, I could achieve an optimum result.\n",
        "My second favourite tool is Naive Bayes. I am using this approach for my research project to classify childeren into very-severe and non-severe pneumonia.\n",
        "This approach is faster than Random Forest and Logistic regression and I am able to obtain and set posterior probabilities, this helped me improve my classification using different biomarkers"
      ]
    },
    {
      "cell_type": "markdown",
      "metadata": {
        "id": "KMH6njCBHPGc",
        "colab_type": "text"
      },
      "source": [
        "\n",
        "\n",
        "---\n",
        "\n",
        "\n",
        "\n",
        "---\n",
        "\n"
      ]
    }
  ]
}